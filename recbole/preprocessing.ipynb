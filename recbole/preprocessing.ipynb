{
 "cells": [
  {
   "cell_type": "code",
   "execution_count": 1,
   "metadata": {},
   "outputs": [],
   "source": [
    "import pandas as pd\n",
    "import numpy as np\n",
    "import os\n",
    "\n",
    "DATA_PATH = \"/workspace/lg/2022-lguplus-AI-Ground/data\""
   ]
  },
  {
   "cell_type": "code",
   "execution_count": 64,
   "metadata": {},
   "outputs": [],
   "source": [
    "df_history = pd.read_csv(os.path.join(DATA_PATH, 'history_data.csv')).drop_duplicates(['profile_id', 'ss_id', 'log_time', 'album_id'], keep='last')"
   ]
  },
  {
   "cell_type": "code",
   "execution_count": 65,
   "metadata": {},
   "outputs": [],
   "source": [
    "df_history['continuous_play'] = np.where(df_history['continuous_play']=='Y', 1, 0)\n",
    "df_history['short_trailer'] = np.where(df_history['short_trailer']=='Y', 1, 0)\n",
    "\n",
    "df_history['ss_continuous_cnt'] = df_history.groupby(['profile_id', 'ss_id'])['continuous_play'].transform('cumsum')\n"
   ]
  },
  {
   "cell_type": "code",
   "execution_count": 66,
   "metadata": {},
   "outputs": [],
   "source": [
    "df_watch = pd.read_csv(os.path.join(DATA_PATH, 'watch_e_data.csv'))\n",
    "\n",
    "df_watch['watch_ratio'] = df_watch['watch_time'] / df_watch['total_time']"
   ]
  },
  {
   "cell_type": "code",
   "execution_count": 67,
   "metadata": {},
   "outputs": [],
   "source": [
    "# 나중에 평점 높게 처리할 것\n",
    "\n",
    "# df_watch.duplicated(['profile_id', 'ss_id', 'album_id'])\n",
    "\n"
   ]
  },
  {
   "cell_type": "code",
   "execution_count": 68,
   "metadata": {},
   "outputs": [],
   "source": [
    "# threshold = 0.1\n",
    "\n",
    "# df_watch_real = df_watch.loc[(df_watch['watch_ratio'] >= 0.7 )]"
   ]
  },
  {
   "cell_type": "code",
   "execution_count": 69,
   "metadata": {},
   "outputs": [],
   "source": [
    "df_seen = pd.merge(df_history.drop('log_time', axis=1),\n",
    "                   df_watch.drop('log_time', axis=1),\n",
    "                   how='inner',\n",
    "                   on=['profile_id', 'ss_id', 'album_id'])"
   ]
  },
  {
   "cell_type": "code",
   "execution_count": 70,
   "metadata": {},
   "outputs": [],
   "source": [
    "df_seen['watch_ratio'] = df_seen['watch_ratio'].apply(lambda x: 1 if x >= 0.3 else 0)\n"
   ]
  },
  {
   "cell_type": "code",
   "execution_count": 71,
   "metadata": {},
   "outputs": [
    {
     "name": "stderr",
     "output_type": "stream",
     "text": [
      "<ipython-input-71-44b6634dc7b4>:9: SettingWithCopyWarning: \n",
      "A value is trying to be set on a copy of a slice from a DataFrame.\n",
      "Try using .loc[row_indexer,col_indexer] = value instead\n",
      "\n",
      "See the caveats in the documentation: https://pandas.pydata.org/pandas-docs/stable/user_guide/indexing.html#returning-a-view-versus-a-copy\n",
      "  df_buy_p['watch_ratio'] = df_buy['watch_ratio'].apply(lambda x: 1)\n"
     ]
    }
   ],
   "source": [
    "#짧은 걸 여러 번 보는 것 -> preference positive하게\n",
    "\n",
    "df_buy = pd.read_csv(os.path.join(DATA_PATH, 'watch_e_data.csv'), index_col=False).drop_duplicates(['profile_id', 'ss_id', 'log_time', 'album_id'], keep='last')\n",
    "\n",
    "df_buy['watch_ratio'] = df_buy['watch_time'] / df_buy['total_time']\n",
    "\n",
    "df_buy_p = df_buy[df_buy['watch_ratio'] > 0.1]\n",
    "\n",
    "df_buy_p['watch_ratio'] = df_buy['watch_ratio'].apply(lambda x: 1)\n",
    "\n",
    "df_buy_p = df_buy_p[['profile_id', 'album_id', 'watch_ratio', 'ss_id']]"
   ]
  },
  {
   "cell_type": "code",
   "execution_count": 72,
   "metadata": {},
   "outputs": [],
   "source": [
    "df_search = pd.read_csv(os.path.join(DATA_PATH, 'search_data.csv'), index_col=False).drop_duplicates(['profile_id', 'ss_id', 'log_time', 'album_id'], keep='last')\n",
    "\n",
    "df_search['watch_ratio'] = 1"
   ]
  },
  {
   "cell_type": "code",
   "execution_count": 73,
   "metadata": {},
   "outputs": [],
   "source": [
    "df = pd.merge(df_seen[['profile_id', 'album_id', 'watch_ratio', 'ss_id']], \n",
    "              df_buy_p[['profile_id', 'album_id', 'watch_ratio', 'ss_id']],\n",
    "              how='outer')"
   ]
  },
  {
   "cell_type": "code",
   "execution_count": 74,
   "metadata": {},
   "outputs": [],
   "source": [
    "df = pd.merge(df, \n",
    "              df_search[['profile_id', 'album_id', 'watch_ratio', 'ss_id']],\n",
    "              how='outer')"
   ]
  },
  {
   "cell_type": "code",
   "execution_count": 77,
   "metadata": {},
   "outputs": [
    {
     "data": {
      "text/html": [
       "<div>\n",
       "<style scoped>\n",
       "    .dataframe tbody tr th:only-of-type {\n",
       "        vertical-align: middle;\n",
       "    }\n",
       "\n",
       "    .dataframe tbody tr th {\n",
       "        vertical-align: top;\n",
       "    }\n",
       "\n",
       "    .dataframe thead th {\n",
       "        text-align: right;\n",
       "    }\n",
       "</style>\n",
       "<table border=\"1\" class=\"dataframe\">\n",
       "  <thead>\n",
       "    <tr style=\"text-align: right;\">\n",
       "      <th></th>\n",
       "      <th>profile_id</th>\n",
       "      <th>album_id</th>\n",
       "      <th>watch_ratio</th>\n",
       "      <th>ss_id</th>\n",
       "    </tr>\n",
       "  </thead>\n",
       "  <tbody>\n",
       "  </tbody>\n",
       "</table>\n",
       "</div>"
      ],
      "text/plain": [
       "Empty DataFrame\n",
       "Columns: [profile_id, album_id, watch_ratio, ss_id]\n",
       "Index: []"
      ]
     },
     "execution_count": 77,
     "metadata": {},
     "output_type": "execute_result"
    }
   ],
   "source": []
  },
  {
   "cell_type": "code",
   "execution_count": 70,
   "metadata": {},
   "outputs": [
    {
     "name": "stdout",
     "output_type": "stream",
     "text": [
      "Done!\n"
     ]
    }
   ],
   "source": [
    "df.columns = [\"userID\", \"itemID\", \"rating\", \"timestamp\"]\n",
    "\n",
    "\n",
    "# .inter file 생성\n",
    "\n",
    "TARGET_DIR = os.path.join(os.getcwd(), \"../data/recbole\")\n",
    "TARGET_NAME = \"recbole.inter\"\n",
    "\n",
    "os.makedirs(TARGET_DIR, exist_ok=True)\n",
    "\n",
    "df = df.rename(\n",
    "    columns={\n",
    "        \"userID\": \"user_id:token\",\n",
    "        \"itemID\": \"item_id:token\",\n",
    "        \"rating\": \"rating:float\",\n",
    "        \"timestamp\": \"timestamp:float\",\n",
    "    }\n",
    ")\n",
    "\n",
    "df.to_csv(os.path.join(TARGET_DIR, TARGET_NAME), index=False, sep=\"\\t\")\n",
    "\n",
    "print(\"Done!\")\n",
    "\n"
   ]
  },
  {
   "cell_type": "code",
   "execution_count": null,
   "metadata": {},
   "outputs": [],
   "source": []
  }
 ],
 "metadata": {
  "kernelspec": {
   "display_name": "Python 3.8.5 ('base')",
   "language": "python",
   "name": "python3"
  },
  "language_info": {
   "codemirror_mode": {
    "name": "ipython",
    "version": 3
   },
   "file_extension": ".py",
   "mimetype": "text/x-python",
   "name": "python",
   "nbconvert_exporter": "python",
   "pygments_lexer": "ipython3",
   "version": "3.8.5"
  },
  "orig_nbformat": 4,
  "vscode": {
   "interpreter": {
    "hash": "d4d1e4263499bec80672ea0156c357c1ee493ec2b1c70f0acce89fc37c4a6abe"
   }
  }
 },
 "nbformat": 4,
 "nbformat_minor": 2
}
