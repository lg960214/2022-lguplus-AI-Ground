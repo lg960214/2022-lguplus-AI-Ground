{
 "cells": [
  {
   "cell_type": "code",
   "execution_count": 1,
   "metadata": {},
   "outputs": [],
   "source": [
    "import os\n",
    "import pandas as pd\n",
    "import numpy as np\n",
    "import gc\n",
    "\n",
    "import matplotlib.pyplot as plt\n",
    "import seaborn as sns\n",
    "\n",
    "plt.style.use(\"fivethirtyeight\")\n",
    "sns.set_style(\"darkgrid\")"
   ]
  },
  {
   "cell_type": "code",
   "execution_count": 2,
   "metadata": {},
   "outputs": [],
   "source": [
    "DATA_DIR = '../dataset/raw'\n",
    "PROCESSED_DIR = '../dataset/processed'\n",
    "SUBMISSION_DIR = '../submission'"
   ]
  },
  {
   "cell_type": "code",
   "execution_count": 3,
   "metadata": {},
   "outputs": [],
   "source": [
    "sub1 = pd.read_csv(os.path.join(PROCESSED_DIR, 'output (1).csv'), converters={\"predicted_list\": eval})\n",
    "sub2 = pd.read_csv(os.path.join(PROCESSED_DIR, 'output (2).csv'), converters={\"predicted_list\": eval})"
   ]
  },
  {
   "cell_type": "code",
   "execution_count": 4,
   "metadata": {},
   "outputs": [
    {
     "data": {
      "text/html": [
       "<div>\n",
       "<style scoped>\n",
       "    .dataframe tbody tr th:only-of-type {\n",
       "        vertical-align: middle;\n",
       "    }\n",
       "\n",
       "    .dataframe tbody tr th {\n",
       "        vertical-align: top;\n",
       "    }\n",
       "\n",
       "    .dataframe thead th {\n",
       "        text-align: right;\n",
       "    }\n",
       "</style>\n",
       "<table border=\"1\" class=\"dataframe\">\n",
       "  <thead>\n",
       "    <tr style=\"text-align: right;\">\n",
       "      <th></th>\n",
       "      <th>profile_id</th>\n",
       "      <th>predicted_list</th>\n",
       "    </tr>\n",
       "  </thead>\n",
       "  <tbody>\n",
       "    <tr>\n",
       "      <th>0</th>\n",
       "      <td>3</td>\n",
       "      <td>[20, 21, 15, 25, 31, 30, 29, 28, 27, 26, 24, 1...</td>\n",
       "    </tr>\n",
       "    <tr>\n",
       "      <th>1</th>\n",
       "      <td>5</td>\n",
       "      <td>[128, 74, 75, 84, 317, 73, 86, 72, 90, 15, 134...</td>\n",
       "    </tr>\n",
       "    <tr>\n",
       "      <th>2</th>\n",
       "      <td>7</td>\n",
       "      <td>[237, 343, 255, 0, 125, 124, 65, 241, 127, 190...</td>\n",
       "    </tr>\n",
       "    <tr>\n",
       "      <th>3</th>\n",
       "      <td>12</td>\n",
       "      <td>[124, 16, 19, 65, 126, 125, 18, 424, 190, 339,...</td>\n",
       "    </tr>\n",
       "    <tr>\n",
       "      <th>4</th>\n",
       "      <td>16</td>\n",
       "      <td>[38, 39, 225, 136, 230, 40, 41, 42, 43, 44, 45...</td>\n",
       "    </tr>\n",
       "  </tbody>\n",
       "</table>\n",
       "</div>"
      ],
      "text/plain": [
       "   profile_id                                     predicted_list\n",
       "0           3  [20, 21, 15, 25, 31, 30, 29, 28, 27, 26, 24, 1...\n",
       "1           5  [128, 74, 75, 84, 317, 73, 86, 72, 90, 15, 134...\n",
       "2           7  [237, 343, 255, 0, 125, 124, 65, 241, 127, 190...\n",
       "3          12  [124, 16, 19, 65, 126, 125, 18, 424, 190, 339,...\n",
       "4          16  [38, 39, 225, 136, 230, 40, 41, 42, 43, 44, 45..."
      ]
     },
     "execution_count": 4,
     "metadata": {},
     "output_type": "execute_result"
    }
   ],
   "source": [
    "sub1.head()"
   ]
  },
  {
   "cell_type": "code",
   "execution_count": 5,
   "metadata": {},
   "outputs": [
    {
     "data": {
      "text/html": [
       "<div>\n",
       "<style scoped>\n",
       "    .dataframe tbody tr th:only-of-type {\n",
       "        vertical-align: middle;\n",
       "    }\n",
       "\n",
       "    .dataframe tbody tr th {\n",
       "        vertical-align: top;\n",
       "    }\n",
       "\n",
       "    .dataframe thead th {\n",
       "        text-align: right;\n",
       "    }\n",
       "</style>\n",
       "<table border=\"1\" class=\"dataframe\">\n",
       "  <thead>\n",
       "    <tr style=\"text-align: right;\">\n",
       "      <th></th>\n",
       "      <th>profile_id</th>\n",
       "      <th>predicted_list</th>\n",
       "    </tr>\n",
       "  </thead>\n",
       "  <tbody>\n",
       "    <tr>\n",
       "      <th>0</th>\n",
       "      <td>3</td>\n",
       "      <td>[17, 16, 19, 18, 347, 124, 55, 224, 21, 23, 30...</td>\n",
       "    </tr>\n",
       "    <tr>\n",
       "      <th>1</th>\n",
       "      <td>5</td>\n",
       "      <td>[38, 39, 15, 42, 75, 78, 76, 80, 136, 19, 128,...</td>\n",
       "    </tr>\n",
       "    <tr>\n",
       "      <th>2</th>\n",
       "      <td>7</td>\n",
       "      <td>[343, 237, 255, 241, 347, 125, 124, 0, 339, 18...</td>\n",
       "    </tr>\n",
       "    <tr>\n",
       "      <th>3</th>\n",
       "      <td>12</td>\n",
       "      <td>[356, 357, 352, 353, 355, 3663, 2174, 426, 366...</td>\n",
       "    </tr>\n",
       "    <tr>\n",
       "      <th>4</th>\n",
       "      <td>16</td>\n",
       "      <td>[65, 124, 125, 339, 190, 2029, 127, 241, 50, 1...</td>\n",
       "    </tr>\n",
       "  </tbody>\n",
       "</table>\n",
       "</div>"
      ],
      "text/plain": [
       "   profile_id                                     predicted_list\n",
       "0           3  [17, 16, 19, 18, 347, 124, 55, 224, 21, 23, 30...\n",
       "1           5  [38, 39, 15, 42, 75, 78, 76, 80, 136, 19, 128,...\n",
       "2           7  [343, 237, 255, 241, 347, 125, 124, 0, 339, 18...\n",
       "3          12  [356, 357, 352, 353, 355, 3663, 2174, 426, 366...\n",
       "4          16  [65, 124, 125, 339, 190, 2029, 127, 241, 50, 1..."
      ]
     },
     "execution_count": 5,
     "metadata": {},
     "output_type": "execute_result"
    }
   ],
   "source": [
    "sub2.head()"
   ]
  },
  {
   "cell_type": "code",
   "execution_count": 8,
   "metadata": {},
   "outputs": [],
   "source": [
    "ensemble = pd.DataFrame(sub1.profile_id)\n",
    "ensemble['prediction1'] = sub1['predicted_list']\n",
    "ensemble['prediction2'] = sub2['predicted_list']"
   ]
  },
  {
   "cell_type": "code",
   "execution_count": 9,
   "metadata": {},
   "outputs": [
    {
     "data": {
      "text/html": [
       "<div>\n",
       "<style scoped>\n",
       "    .dataframe tbody tr th:only-of-type {\n",
       "        vertical-align: middle;\n",
       "    }\n",
       "\n",
       "    .dataframe tbody tr th {\n",
       "        vertical-align: top;\n",
       "    }\n",
       "\n",
       "    .dataframe thead th {\n",
       "        text-align: right;\n",
       "    }\n",
       "</style>\n",
       "<table border=\"1\" class=\"dataframe\">\n",
       "  <thead>\n",
       "    <tr style=\"text-align: right;\">\n",
       "      <th></th>\n",
       "      <th>profile_id</th>\n",
       "      <th>prediction1</th>\n",
       "      <th>prediction2</th>\n",
       "    </tr>\n",
       "  </thead>\n",
       "  <tbody>\n",
       "    <tr>\n",
       "      <th>0</th>\n",
       "      <td>3</td>\n",
       "      <td>[20, 21, 15, 25, 31, 30, 29, 28, 27, 26, 24, 1...</td>\n",
       "      <td>[17, 16, 19, 18, 347, 124, 55, 224, 21, 23, 30...</td>\n",
       "    </tr>\n",
       "    <tr>\n",
       "      <th>1</th>\n",
       "      <td>5</td>\n",
       "      <td>[128, 74, 75, 84, 317, 73, 86, 72, 90, 15, 134...</td>\n",
       "      <td>[38, 39, 15, 42, 75, 78, 76, 80, 136, 19, 128,...</td>\n",
       "    </tr>\n",
       "    <tr>\n",
       "      <th>2</th>\n",
       "      <td>7</td>\n",
       "      <td>[237, 343, 255, 0, 125, 124, 65, 241, 127, 190...</td>\n",
       "      <td>[343, 237, 255, 241, 347, 125, 124, 0, 339, 18...</td>\n",
       "    </tr>\n",
       "    <tr>\n",
       "      <th>3</th>\n",
       "      <td>12</td>\n",
       "      <td>[124, 16, 19, 65, 126, 125, 18, 424, 190, 339,...</td>\n",
       "      <td>[356, 357, 352, 353, 355, 3663, 2174, 426, 366...</td>\n",
       "    </tr>\n",
       "    <tr>\n",
       "      <th>4</th>\n",
       "      <td>16</td>\n",
       "      <td>[38, 39, 225, 136, 230, 40, 41, 42, 43, 44, 45...</td>\n",
       "      <td>[65, 124, 125, 339, 190, 2029, 127, 241, 50, 1...</td>\n",
       "    </tr>\n",
       "  </tbody>\n",
       "</table>\n",
       "</div>"
      ],
      "text/plain": [
       "   profile_id                                        prediction1  \\\n",
       "0           3  [20, 21, 15, 25, 31, 30, 29, 28, 27, 26, 24, 1...   \n",
       "1           5  [128, 74, 75, 84, 317, 73, 86, 72, 90, 15, 134...   \n",
       "2           7  [237, 343, 255, 0, 125, 124, 65, 241, 127, 190...   \n",
       "3          12  [124, 16, 19, 65, 126, 125, 18, 424, 190, 339,...   \n",
       "4          16  [38, 39, 225, 136, 230, 40, 41, 42, 43, 44, 45...   \n",
       "\n",
       "                                         prediction2  \n",
       "0  [17, 16, 19, 18, 347, 124, 55, 224, 21, 23, 30...  \n",
       "1  [38, 39, 15, 42, 75, 78, 76, 80, 136, 19, 128,...  \n",
       "2  [343, 237, 255, 241, 347, 125, 124, 0, 339, 18...  \n",
       "3  [356, 357, 352, 353, 355, 3663, 2174, 426, 366...  \n",
       "4  [65, 124, 125, 339, 190, 2029, 127, 241, 50, 1...  "
      ]
     },
     "execution_count": 9,
     "metadata": {},
     "output_type": "execute_result"
    }
   ],
   "source": [
    "ensemble.head()"
   ]
  },
  {
   "cell_type": "code",
   "execution_count": 14,
   "metadata": {},
   "outputs": [],
   "source": [
    "def cust_blend(dt, W = [1,1,1]):\n",
    "    #Global ensemble weights\n",
    "    #W = [1.15,0.95,0.85]\n",
    "    \n",
    "    #Create a list of all model predictions\n",
    "    REC = []\n",
    "    REC.append(dt['prediction1'])\n",
    "    REC.append(dt['prediction2'])\n",
    "    \n",
    "    #Create a dictionary of items recommended. \n",
    "    #Assign a weight according the order of appearance and multiply by global weights\n",
    "    res = {}\n",
    "    for M in range(len(REC)):\n",
    "        for n, v in enumerate(REC[M]):\n",
    "            if v in res:\n",
    "                res[v] += (W[M]/(n+1))\n",
    "            else:\n",
    "                res[v] = (W[M]/(n+1))\n",
    "    \n",
    "    # Sort dictionary by item weights\n",
    "    res = list(dict(sorted(res.items(), key=lambda item: -item[1])).keys())\n",
    "    \n",
    "    # Return the top 12 itens only\n",
    "    return res[:25]"
   ]
  },
  {
   "cell_type": "code",
   "execution_count": 15,
   "metadata": {},
   "outputs": [],
   "source": [
    "ensemble['predicted_list'] = ensemble.apply(cust_blend, W = [1.15, 1.00], axis=1)"
   ]
  },
  {
   "cell_type": "code",
   "execution_count": 16,
   "metadata": {},
   "outputs": [
    {
     "data": {
      "text/html": [
       "<div>\n",
       "<style scoped>\n",
       "    .dataframe tbody tr th:only-of-type {\n",
       "        vertical-align: middle;\n",
       "    }\n",
       "\n",
       "    .dataframe tbody tr th {\n",
       "        vertical-align: top;\n",
       "    }\n",
       "\n",
       "    .dataframe thead th {\n",
       "        text-align: right;\n",
       "    }\n",
       "</style>\n",
       "<table border=\"1\" class=\"dataframe\">\n",
       "  <thead>\n",
       "    <tr style=\"text-align: right;\">\n",
       "      <th></th>\n",
       "      <th>profile_id</th>\n",
       "      <th>prediction1</th>\n",
       "      <th>prediction2</th>\n",
       "      <th>predicted_list</th>\n",
       "    </tr>\n",
       "  </thead>\n",
       "  <tbody>\n",
       "    <tr>\n",
       "      <th>0</th>\n",
       "      <td>3</td>\n",
       "      <td>[20, 21, 15, 25, 31, 30, 29, 28, 27, 26, 24, 1...</td>\n",
       "      <td>[17, 16, 19, 18, 347, 124, 55, 224, 21, 23, 30...</td>\n",
       "      <td>[20, 17, 21, 16, 19, 15, 25, 18, 31, 30, 124, ...</td>\n",
       "    </tr>\n",
       "    <tr>\n",
       "      <th>1</th>\n",
       "      <td>5</td>\n",
       "      <td>[128, 74, 75, 84, 317, 73, 86, 72, 90, 15, 134...</td>\n",
       "      <td>[38, 39, 15, 42, 75, 78, 76, 80, 136, 19, 128,...</td>\n",
       "      <td>[128, 38, 75, 74, 39, 15, 84, 73, 42, 317, 136...</td>\n",
       "    </tr>\n",
       "    <tr>\n",
       "      <th>2</th>\n",
       "      <td>7</td>\n",
       "      <td>[237, 343, 255, 0, 125, 124, 65, 241, 127, 190...</td>\n",
       "      <td>[343, 237, 255, 241, 347, 125, 124, 0, 339, 18...</td>\n",
       "      <td>[237, 343, 255, 0, 125, 241, 124, 347, 65, 339...</td>\n",
       "    </tr>\n",
       "    <tr>\n",
       "      <th>3</th>\n",
       "      <td>12</td>\n",
       "      <td>[124, 16, 19, 65, 126, 125, 18, 424, 190, 339,...</td>\n",
       "      <td>[356, 357, 352, 353, 355, 3663, 2174, 426, 366...</td>\n",
       "      <td>[124, 356, 16, 357, 19, 352, 65, 353, 126, 355...</td>\n",
       "    </tr>\n",
       "    <tr>\n",
       "      <th>4</th>\n",
       "      <td>16</td>\n",
       "      <td>[38, 39, 225, 136, 230, 40, 41, 42, 43, 44, 45...</td>\n",
       "      <td>[65, 124, 125, 339, 190, 2029, 127, 241, 50, 1...</td>\n",
       "      <td>[38, 65, 39, 124, 225, 125, 136, 339, 230, 190...</td>\n",
       "    </tr>\n",
       "  </tbody>\n",
       "</table>\n",
       "</div>"
      ],
      "text/plain": [
       "   profile_id                                        prediction1  \\\n",
       "0           3  [20, 21, 15, 25, 31, 30, 29, 28, 27, 26, 24, 1...   \n",
       "1           5  [128, 74, 75, 84, 317, 73, 86, 72, 90, 15, 134...   \n",
       "2           7  [237, 343, 255, 0, 125, 124, 65, 241, 127, 190...   \n",
       "3          12  [124, 16, 19, 65, 126, 125, 18, 424, 190, 339,...   \n",
       "4          16  [38, 39, 225, 136, 230, 40, 41, 42, 43, 44, 45...   \n",
       "\n",
       "                                         prediction2  \\\n",
       "0  [17, 16, 19, 18, 347, 124, 55, 224, 21, 23, 30...   \n",
       "1  [38, 39, 15, 42, 75, 78, 76, 80, 136, 19, 128,...   \n",
       "2  [343, 237, 255, 241, 347, 125, 124, 0, 339, 18...   \n",
       "3  [356, 357, 352, 353, 355, 3663, 2174, 426, 366...   \n",
       "4  [65, 124, 125, 339, 190, 2029, 127, 241, 50, 1...   \n",
       "\n",
       "                                      predicted_list  \n",
       "0  [20, 17, 21, 16, 19, 15, 25, 18, 31, 30, 124, ...  \n",
       "1  [128, 38, 75, 74, 39, 15, 84, 73, 42, 317, 136...  \n",
       "2  [237, 343, 255, 0, 125, 241, 124, 347, 65, 339...  \n",
       "3  [124, 356, 16, 357, 19, 352, 65, 353, 126, 355...  \n",
       "4  [38, 65, 39, 124, 225, 125, 136, 339, 230, 190...  "
      ]
     },
     "execution_count": 16,
     "metadata": {},
     "output_type": "execute_result"
    }
   ],
   "source": [
    "ensemble.head()"
   ]
  },
  {
   "cell_type": "code",
   "execution_count": 17,
   "metadata": {},
   "outputs": [],
   "source": [
    "(ensemble[['profile_id', 'predicted_list']]\n",
    " .to_csv(os.path.join(SUBMISSION_DIR, 'final.csv'), index=False, encoding='utf-8-sig')\n",
    ")"
   ]
  },
  {
   "cell_type": "code",
   "execution_count": null,
   "metadata": {},
   "outputs": [],
   "source": []
  }
 ],
 "metadata": {
  "kernelspec": {
   "display_name": "Python 3.8.11 64-bit ('recsys')",
   "language": "python",
   "name": "python3"
  },
  "language_info": {
   "codemirror_mode": {
    "name": "ipython",
    "version": 3
   },
   "file_extension": ".py",
   "mimetype": "text/x-python",
   "name": "python",
   "nbconvert_exporter": "python",
   "pygments_lexer": "ipython3",
   "version": "3.8.11"
  },
  "orig_nbformat": 4,
  "vscode": {
   "interpreter": {
    "hash": "1837a1336ee1fc1967f749c1f5bdf4975b2b3c2e28ab22233a40d26576ebd112"
   }
  }
 },
 "nbformat": 4,
 "nbformat_minor": 2
}
