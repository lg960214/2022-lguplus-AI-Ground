{
 "cells": [
  {
   "cell_type": "code",
   "execution_count": 1,
   "id": "4bf4a877-a4af-40d9-a588-1c2f2206108a",
   "metadata": {},
   "outputs": [],
   "source": [
    "import os\n",
    "import pandas as pd\n",
    "import numpy as np\n",
    "\n",
    "from collections import Counter\n",
    "\n",
    "import matplotlib.pyplot as plt\n",
    "import seaborn as sns\n",
    "\n",
    "plt.style.use(\"fivethirtyeight\")\n",
    "sns.set_style(\"darkgrid\")"
   ]
  },
  {
   "cell_type": "code",
   "execution_count": 2,
   "id": "4d749d9e-7306-478e-8803-6d1c67b607f6",
   "metadata": {},
   "outputs": [],
   "source": [
    "DATA_DIR = '../dataset'\n",
    "SUBMISSION_DIR = '../submission'"
   ]
  },
  {
   "cell_type": "code",
   "execution_count": 3,
   "id": "5b3c3046-a515-4bfe-8964-a03031231cc5",
   "metadata": {},
   "outputs": [
    {
     "name": "stderr",
     "output_type": "stream",
     "text": [
      "/tmp/ipykernel_4567/4180386698.py:4: DtypeWarning: Columns (15) have mixed types. Specify dtype option on import or set low_memory=False.\n",
      "  df_meta = pd.read_csv(os.path.join(DATA_DIR, 'meta_data.csv'))\n"
     ]
    }
   ],
   "source": [
    "df_history = pd.read_csv(os.path.join(DATA_DIR, 'history_data.csv'))\n",
    "df_watch = pd.read_csv(os.path.join(DATA_DIR, 'watch_e_data.csv'))\n",
    "df_profile = pd.read_csv(os.path.join(DATA_DIR, 'profile_data.csv'))\n",
    "df_meta = pd.read_csv(os.path.join(DATA_DIR, 'meta_data.csv'))"
   ]
  },
  {
   "cell_type": "markdown",
   "id": "46a8158e",
   "metadata": {},
   "source": [
    "## History Processing"
   ]
  },
  {
   "cell_type": "code",
   "execution_count": 4,
   "id": "42c3001f-23e8-415c-9d10-63fb8e06c117",
   "metadata": {},
   "outputs": [],
   "source": [
    "df_history['continuous_play'] = np.where(df_history['continuous_play']=='Y', 1, 0)\n",
    "df_history['short_trailer'] = np.where(df_history['short_trailer']=='Y', 1, 0)\n",
    "df_history['ss_continuous_cnt'] = df_history.groupby(['profile_id', 'ss_id'])['continuous_play'].transform('cumsum')"
   ]
  },
  {
   "cell_type": "markdown",
   "id": "798b2bbd",
   "metadata": {},
   "source": [
    "## Watch Processing"
   ]
  },
  {
   "cell_type": "code",
   "execution_count": 5,
   "id": "cbb4400f-4496-4310-9e9f-6ff80d76688b",
   "metadata": {},
   "outputs": [],
   "source": [
    "df_watch['watch_ratio'] = df_watch['watch_time'] / df_watch['total_time']\n",
    "df_watch['ss_watch_cnt'] = df_watch.groupby(['profile_id', 'ss_id', 'album_id'])['act_target_dtl'].transform('cumcount') + 1\n",
    "df_watch_real = df_watch.query('watch_ratio>=0.1').reset_index(drop=True)"
   ]
  },
  {
   "cell_type": "markdown",
   "id": "490bf445",
   "metadata": {},
   "source": [
    "## Merge DataFrames"
   ]
  },
  {
   "cell_type": "code",
   "execution_count": 6,
   "id": "c0d2e1c1-8252-424b-a960-e6969cf19634",
   "metadata": {},
   "outputs": [],
   "source": [
    "df_seen = pd.merge(df_history.drop('log_time', axis=1),\n",
    "                   df_watch_real.drop('log_time', axis=1),\n",
    "                   how='inner',\n",
    "                   on=['profile_id', 'ss_id', 'album_id'])"
   ]
  },
  {
   "cell_type": "code",
   "execution_count": 7,
   "id": "46264ba4",
   "metadata": {},
   "outputs": [],
   "source": [
    "df_cleansing = df_seen.drop_duplicates(subset=['profile_id', 'ss_id', 'album_id'], keep='last').reset_index(drop=True)"
   ]
  },
  {
   "cell_type": "code",
   "execution_count": 8,
   "id": "e144e6db-c980-4d6a-81dc-32273f866f75",
   "metadata": {},
   "outputs": [],
   "source": [
    "# df_cleansing = pd.concat([df_seen.drop_duplicates(subset=['profile_id', 'ss_id', 'album_id'], keep='first'),\n",
    "#                           df_seen.drop_duplicates(subset=['profile_id', 'ss_id', 'album_id'], keep='last')]\n",
    "#                         )\n",
    "\n",
    "# df_cleansing = df_cleansing.drop_duplicates(subset=['profile_id', 'ss_id', 'album_id', 'ss_continuous_cnt'], keep='first')\n",
    "# df_cleansing = df_cleansing.sort_values(by=['profile_id', 'ss_id', 'ss_continuous_cnt']).reset_index(drop=True)"
   ]
  },
  {
   "cell_type": "code",
   "execution_count": 9,
   "id": "116c9a9e",
   "metadata": {},
   "outputs": [],
   "source": [
    "df_meta['genre_mid'] = np.where(df_meta['genre_mid']==\"노래 율동\", '노래율동', df_meta['genre_mid'])"
   ]
  },
  {
   "cell_type": "code",
   "execution_count": 10,
   "id": "df4c2af0-8bc2-4677-9a50-c7339dc5e89f",
   "metadata": {},
   "outputs": [],
   "source": [
    "df_cleansing = df_cleansing.merge(df_meta[['album_id', 'genre_large', 'genre_mid']].drop_duplicates(),\n",
    "                                  how='left',\n",
    "                                  on='album_id'\n",
    "                                  )"
   ]
  },
  {
   "cell_type": "code",
   "execution_count": 11,
   "id": "b0dcf828",
   "metadata": {},
   "outputs": [
    {
     "data": {
      "text/plain": [
       "(484163, 16)"
      ]
     },
     "execution_count": 11,
     "metadata": {},
     "output_type": "execute_result"
    }
   ],
   "source": [
    "df_cleansing.shape"
   ]
  },
  {
   "cell_type": "markdown",
   "id": "5d221caf",
   "metadata": {},
   "source": [
    "### Genre Mid Nunique Count in Session"
   ]
  },
  {
   "cell_type": "code",
   "execution_count": 12,
   "id": "eda56b8a",
   "metadata": {},
   "outputs": [
    {
     "data": {
      "text/plain": [
       "<seaborn.axisgrid.FacetGrid at 0x7f539ac0ef40>"
      ]
     },
     "execution_count": 12,
     "metadata": {},
     "output_type": "execute_result"
    },
    {
     "data": {
      "image/png": "[encoded data removed]",
      "text/plain": [
       "<Figure size 500x500 with 1 Axes>"
      ]
     },
     "metadata": {},
     "output_type": "display_data"
    }
   ],
   "source": [
    "(df_cleansing\n",
    " .groupby(['profile_id', 'ss_id'])['genre_mid']\n",
    " .agg(['count', 'nunique'])\n",
    " .reset_index()\n",
    " .pipe((sns.displot, 'data'),\n",
    "       x='nunique',\n",
    "       kind='kde'\n",
    "       )\n",
    ")"
   ]
  },
  {
   "cell_type": "markdown",
   "id": "d19001c2",
   "metadata": {},
   "source": [
    "## Get Preference Index By Album"
   ]
  },
  {
   "cell_type": "code",
   "execution_count": 13,
   "id": "1ba1ee75",
   "metadata": {},
   "outputs": [],
   "source": [
    "album_stat = (df_cleansing\n",
    "              .groupby('album_id')\n",
    "              .agg({'profile_id': ['nunique'], \n",
    "                    'ss_id': ['nunique'], \n",
    "                    'ss_watch_cnt':['sum']})\n",
    "              .reset_index()\n",
    "              .droplevel(1, axis=1)\n",
    "              )"
   ]
  },
  {
   "cell_type": "code",
   "execution_count": 14,
   "id": "a9183333",
   "metadata": {},
   "outputs": [],
   "source": [
    "album_stat['preference_index'] = (album_stat['ss_watch_cnt'] / album_stat['ss_id']) * album_stat['profile_id']"
   ]
  },
  {
   "cell_type": "code",
   "execution_count": 15,
   "id": "51753104",
   "metadata": {},
   "outputs": [
    {
     "data": {
      "text/html": [
       "<div>\n",
       "<style scoped>\n",
       "    .dataframe tbody tr th:only-of-type {\n",
       "        vertical-align: middle;\n",
       "    }\n",
       "\n",
       "    .dataframe tbody tr th {\n",
       "        vertical-align: top;\n",
       "    }\n",
       "\n",
       "    .dataframe thead th {\n",
       "        text-align: right;\n",
       "    }\n",
       "</style>\n",
       "<table border=\"1\" class=\"dataframe\">\n",
       "  <thead>\n",
       "    <tr style=\"text-align: right;\">\n",
       "      <th></th>\n",
       "      <th>album_id</th>\n",
       "      <th>profile_id</th>\n",
       "      <th>ss_id</th>\n",
       "      <th>ss_watch_cnt</th>\n",
       "      <th>preference_index</th>\n",
       "      <th>genre_large</th>\n",
       "      <th>genre_mid</th>\n",
       "    </tr>\n",
       "  </thead>\n",
       "  <tbody>\n",
       "    <tr>\n",
       "      <th>0</th>\n",
       "      <td>0</td>\n",
       "      <td>490</td>\n",
       "      <td>621</td>\n",
       "      <td>771</td>\n",
       "      <td>608.357488</td>\n",
       "      <td>키즈</td>\n",
       "      <td>외국어</td>\n",
       "    </tr>\n",
       "    <tr>\n",
       "      <th>1</th>\n",
       "      <td>1</td>\n",
       "      <td>117</td>\n",
       "      <td>134</td>\n",
       "      <td>177</td>\n",
       "      <td>154.544776</td>\n",
       "      <td>키즈</td>\n",
       "      <td>외국어</td>\n",
       "    </tr>\n",
       "    <tr>\n",
       "      <th>2</th>\n",
       "      <td>2</td>\n",
       "      <td>90</td>\n",
       "      <td>109</td>\n",
       "      <td>165</td>\n",
       "      <td>136.238532</td>\n",
       "      <td>키즈</td>\n",
       "      <td>외국어</td>\n",
       "    </tr>\n",
       "    <tr>\n",
       "      <th>3</th>\n",
       "      <td>3</td>\n",
       "      <td>86</td>\n",
       "      <td>114</td>\n",
       "      <td>162</td>\n",
       "      <td>122.210526</td>\n",
       "      <td>키즈</td>\n",
       "      <td>외국어</td>\n",
       "    </tr>\n",
       "    <tr>\n",
       "      <th>4</th>\n",
       "      <td>4</td>\n",
       "      <td>105</td>\n",
       "      <td>149</td>\n",
       "      <td>178</td>\n",
       "      <td>125.436242</td>\n",
       "      <td>키즈</td>\n",
       "      <td>TV만화</td>\n",
       "    </tr>\n",
       "  </tbody>\n",
       "</table>\n",
       "</div>"
      ],
      "text/plain": [
       "   album_id  profile_id  ss_id  ss_watch_cnt  preference_index genre_large  \\\n",
       "0         0         490    621           771        608.357488          키즈   \n",
       "1         1         117    134           177        154.544776          키즈   \n",
       "2         2          90    109           165        136.238532          키즈   \n",
       "3         3          86    114           162        122.210526          키즈   \n",
       "4         4         105    149           178        125.436242          키즈   \n",
       "\n",
       "  genre_mid  \n",
       "0       외국어  \n",
       "1       외국어  \n",
       "2       외국어  \n",
       "3       외국어  \n",
       "4      TV만화  "
      ]
     },
     "execution_count": 15,
     "metadata": {},
     "output_type": "execute_result"
    }
   ],
   "source": [
    "album_stat = album_stat.merge(df_meta.filter(['album_id', 'genre_large', 'genre_mid']).drop_duplicates(),\n",
    "                              how='left',\n",
    "                              on='album_id')\n",
    "album_stat.head()"
   ]
  },
  {
   "cell_type": "code",
   "execution_count": 16,
   "id": "2bf91b0e",
   "metadata": {},
   "outputs": [],
   "source": [
    "album_genre_dict = {k:v for k, v in zip(df_meta.album_id, df_meta.genre_mid)}"
   ]
  },
  {
   "cell_type": "code",
   "execution_count": 17,
   "id": "fd67c053",
   "metadata": {},
   "outputs": [],
   "source": [
    "genre_rec = (album_stat\n",
    "             .groupby('genre_mid')[['preference_index', 'album_id']]\n",
    "             .apply(lambda x: x.nlargest(25, columns=['preference_index']))\n",
    "             .reset_index()\n",
    "             .groupby('genre_mid')['album_id']\n",
    "             .apply(list)\n",
    ")"
   ]
  },
  {
   "cell_type": "code",
   "execution_count": 22,
   "id": "3a74d235",
   "metadata": {},
   "outputs": [
    {
     "data": {
      "text/plain": [
       "genre_mid\n",
       "MCN       [2056, 2159, 3624, 4916, 604, 9758, 17317, 180...\n",
       "TV만화      [416, 2054, 264, 737, 419, 309, 2082, 740, 417...\n",
       "극장판 애니            [6392, 444, 3460, 2329, 2328, 3996, 2343]\n",
       "노래율동      [16, 19, 15, 18, 17, 38, 3502, 224, 39, 225, 3...\n",
       "놀이교실      [2298, 624, 625, 1329, 2299, 2736, 4608, 5, 88...\n",
       "다큐멘터리     [6725, 2918, 5711, 3040, 7295, 8839, 6726, 571...\n",
       "독서동화      [311, 2183, 2182, 7676, 1607, 7438, 4069, 1567...\n",
       "드라마       [1982, 1983, 7252, 2338, 12533, 10880, 10983, ...\n",
       "수학과학      [6350, 5702, 6359, 6351, 6587, 6375, 6313, 658...\n",
       "시리즈       [525, 350, 349, 2081, 452, 487, 521, 467, 510,...\n",
       "시사교양      [11559, 11252, 9839, 16274, 22980, 23840, 2384...\n",
       "애니        [1868, 332, 313, 1984, 3768, 1985, 6125, 6012,...\n",
       "액션/모험     [2112, 466, 464, 468, 368, 465, 707, 366, 734,...\n",
       "어린이방송     [2341, 5688, 524, 2920, 61, 3015, 4648, 8745, ...\n",
       "역사/문화                               [382, 3014, 7090, 6577]\n",
       "연예오락                                                [19471]\n",
       "예능        [2185, 2889, 3653, 12084, 2888, 6271, 3656, 36...\n",
       "외국어       [0, 128, 172, 129, 343, 173, 565, 326, 179, 18...\n",
       "유아애니      [9664, 6460, 5464, 5405, 5465, 11059, 12955, 5...\n",
       "육아정보      [378, 387, 386, 385, 390, 384, 6555, 388, 6458...\n",
       "창의학습      [1828, 2548, 14880, 8658, 7536, 4909, 3630, 10...\n",
       "책         [124, 125, 65, 241, 339, 190, 1880, 329, 347, ...\n",
       "체육안전      [14782, 14783, 14784, 19128, 19129, 19141, 191...\n",
       "코미디       [463, 2546, 2547, 3061, 4306, 2545, 5732, 4307...\n",
       "한글        [4854, 6304, 6365, 6457, 6305, 2342, 6302, 570...\n",
       "Name: album_id, dtype: object"
      ]
     },
     "execution_count": 22,
     "metadata": {},
     "output_type": "execute_result"
    }
   ],
   "source": [
    "genre_rec"
   ]
  },
  {
   "cell_type": "code",
   "execution_count": 23,
   "id": "8210b6da",
   "metadata": {},
   "outputs": [],
   "source": [
    "import gc\n",
    "\n",
    "def get_pair_topk(df, k):\n",
    "    documents = df.groupby(['profile_id', 'ss_id'])['album_id'].agg(list).rename('pair').reset_index()\n",
    "    df_pair = df[['profile_id', 'ss_id', 'album_id']].merge(documents, on=['profile_id', 'ss_id'], how='left')\n",
    "    \n",
    "    del df, documents\n",
    "    gc.collect()\n",
    "    \n",
    "    df_pair = df_pair[['album_id', 'pair']].explode(column='pair')\n",
    "    df_pair = df_pair.loc[df_pair['album_id']!=df_pair['pair']].reset_index(drop=True)\n",
    "    \n",
    "    df_pair = df_pair.groupby(['album_id', 'pair']).size().rename('count').reset_index()\n",
    "    df_pair = df_pair.sort_values(['album_id' ,'count'], ascending=False).reset_index(drop=True)\n",
    "    \n",
    "    df_pair['rank'] = df_pair.groupby('album_id')['pair'].cumcount()\n",
    "    df_pair = df_pair.loc[df_pair['rank']<=k].reset_index(drop=True)\n",
    "    df_pair = df_pair.sort_values(by=['album_id', 'rank']).reset_index(drop=True)\n",
    "    return df_pair"
   ]
  },
  {
   "cell_type": "code",
   "execution_count": 24,
   "id": "4004e8f9-7ae5-4b06-8e40-2be1a3486d04",
   "metadata": {},
   "outputs": [],
   "source": [
    "df_pair = get_pair_topk(df_watch_real, k=2)"
   ]
  },
  {
   "cell_type": "code",
   "execution_count": 25,
   "id": "edd0771e",
   "metadata": {},
   "outputs": [
    {
     "data": {
      "text/html": [
       "<div>\n",
       "<style scoped>\n",
       "    .dataframe tbody tr th:only-of-type {\n",
       "        vertical-align: middle;\n",
       "    }\n",
       "\n",
       "    .dataframe tbody tr th {\n",
       "        vertical-align: top;\n",
       "    }\n",
       "\n",
       "    .dataframe thead th {\n",
       "        text-align: right;\n",
       "    }\n",
       "</style>\n",
       "<table border=\"1\" class=\"dataframe\">\n",
       "  <thead>\n",
       "    <tr style=\"text-align: right;\">\n",
       "      <th></th>\n",
       "      <th>album_id</th>\n",
       "      <th>pair</th>\n",
       "      <th>count</th>\n",
       "      <th>rank</th>\n",
       "    </tr>\n",
       "  </thead>\n",
       "  <tbody>\n",
       "    <tr>\n",
       "      <th>0</th>\n",
       "      <td>0</td>\n",
       "      <td>229</td>\n",
       "      <td>183</td>\n",
       "      <td>0</td>\n",
       "    </tr>\n",
       "    <tr>\n",
       "      <th>1</th>\n",
       "      <td>0</td>\n",
       "      <td>15</td>\n",
       "      <td>179</td>\n",
       "      <td>1</td>\n",
       "    </tr>\n",
       "    <tr>\n",
       "      <th>2</th>\n",
       "      <td>0</td>\n",
       "      <td>347</td>\n",
       "      <td>169</td>\n",
       "      <td>2</td>\n",
       "    </tr>\n",
       "    <tr>\n",
       "      <th>3</th>\n",
       "      <td>1</td>\n",
       "      <td>2</td>\n",
       "      <td>148</td>\n",
       "      <td>0</td>\n",
       "    </tr>\n",
       "    <tr>\n",
       "      <th>4</th>\n",
       "      <td>1</td>\n",
       "      <td>3994</td>\n",
       "      <td>133</td>\n",
       "      <td>1</td>\n",
       "    </tr>\n",
       "  </tbody>\n",
       "</table>\n",
       "</div>"
      ],
      "text/plain": [
       "   album_id  pair  count  rank\n",
       "0         0   229    183     0\n",
       "1         0    15    179     1\n",
       "2         0   347    169     2\n",
       "3         1     2    148     0\n",
       "4         1  3994    133     1"
      ]
     },
     "execution_count": 25,
     "metadata": {},
     "output_type": "execute_result"
    }
   ],
   "source": [
    "df_pair.head()"
   ]
  },
  {
   "cell_type": "markdown",
   "id": "6e2ff49f",
   "metadata": {},
   "source": [
    "# ALL"
   ]
  },
  {
   "cell_type": "code",
   "execution_count": 26,
   "id": "b59721dd-b2f2-49be-8eb1-fd70492d66a4",
   "metadata": {},
   "outputs": [],
   "source": [
    "df_cleansing = df_cleansing.merge(df_profile[['profile_id', 'sex', 'age']], \n",
    "                                  how='left',\n",
    "                                  on=['profile_id'])"
   ]
  },
  {
   "cell_type": "code",
   "execution_count": 27,
   "id": "ad3ad541-bcce-4879-a83d-68190e04ba3b",
   "metadata": {},
   "outputs": [],
   "source": [
    "group_rec = (df_cleansing\n",
    "             .groupby(['sex', 'age', 'album_id'])['ss_watch_cnt'].sum()\n",
    "             .reset_index(name='group_watch_sum')\n",
    "             .groupby(['sex', 'age'])[['group_watch_sum', 'album_id']].apply(lambda x: x.nlargest(25, columns=['group_watch_sum']))\n",
    "             .reset_index()\n",
    "             .groupby(['sex','age'])['album_id'].apply(list)\n",
    "             .reset_index(name='pred_list')\n",
    "            )"
   ]
  },
  {
   "cell_type": "code",
   "execution_count": 36,
   "id": "9fe812ec-6fef-4575-b72c-2d5ba8299d97",
   "metadata": {},
   "outputs": [],
   "source": [
    "re_watch = (df_cleansing\n",
    "            .groupby(['profile_id', 'album_id'])['ss_watch_cnt'].sum()\n",
    "            .reset_index(name='profile_watch_sum')\n",
    "            .groupby('profile_id')[['profile_watch_sum', 'album_id']].apply(lambda x: x.nlargest(25, columns=['profile_watch_sum']))\n",
    "            .reset_index()\n",
    "            .groupby('profile_id')['album_id'].apply(list)\n",
    "            .reset_index(name='predicted_list')\n",
    "           )"
   ]
  },
  {
   "cell_type": "code",
   "execution_count": 37,
   "id": "1e5375d5-bf6b-4593-baf9-a6de44033cfb",
   "metadata": {},
   "outputs": [],
   "source": [
    "# pair_dict = dict(zip(df_pair.album_id, df_pair.pair))\n",
    "pair_dict = df_pair.groupby('album_id')['pair'].apply(list)"
   ]
  },
  {
   "cell_type": "code",
   "execution_count": 38,
   "id": "e038b21c-783f-4134-8cbe-6df277438696",
   "metadata": {},
   "outputs": [],
   "source": [
    "def rec_with_pair(arr, k, pair_rec):\n",
    "    n = len(arr)\n",
    "    init = len(arr)\n",
    "    start = 0 \n",
    "    while n<k and start<init:\n",
    "        if arr[start] in pair_rec.keys():\n",
    "            for i in pair_rec[arr[start]]:\n",
    "                if n<k and i not in arr:\n",
    "                    arr.append(i)\n",
    "                    n+=1\n",
    "                else:\n",
    "                    break\n",
    "            start+=1\n",
    "        else:\n",
    "            start+=1\n",
    "    return arr"
   ]
  },
  {
   "cell_type": "code",
   "execution_count": 39,
   "id": "c9b4d85f-c3b7-40a3-95bc-7e630032d713",
   "metadata": {},
   "outputs": [],
   "source": [
    "# re_watch['predicted_list'] = list(np.vectorize(rec_pair)(re_watch['predicted_list'], 25, pair_dict))\n",
    "re_watch['predicted_list'] = re_watch['predicted_list'].map(lambda x: rec_with_pair(x, 25, pair_dict))"
   ]
  },
  {
   "cell_type": "code",
   "execution_count": 40,
   "id": "21607fec",
   "metadata": {},
   "outputs": [],
   "source": [
    "def rec_with_genre(arr, k, genre_dict, genre_rec):\n",
    "    n = len(arr)\n",
    "    start = 0\n",
    "    while n<k:\n",
    "        prefer_genre = genre_dict[arr[start]]\n",
    "        for i in genre_rec[prefer_genre]:\n",
    "            if i not in arr:\n",
    "                arr.append(i)\n",
    "                n+=1\n",
    "            else:\n",
    "                continue\n",
    "        start+=1\n",
    "    return arr"
   ]
  },
  {
   "cell_type": "code",
   "execution_count": 41,
   "id": "fc213939",
   "metadata": {},
   "outputs": [],
   "source": [
    "re_watch['predicted_list'] = re_watch['predicted_list'].map(lambda x: rec_with_genre(x, 25, album_genre_dict, genre_rec))"
   ]
  },
  {
   "cell_type": "code",
   "execution_count": 42,
   "id": "b3809aab",
   "metadata": {},
   "outputs": [
    {
     "data": {
      "text/html": [
       "<div>\n",
       "<style scoped>\n",
       "    .dataframe tbody tr th:only-of-type {\n",
       "        vertical-align: middle;\n",
       "    }\n",
       "\n",
       "    .dataframe tbody tr th {\n",
       "        vertical-align: top;\n",
       "    }\n",
       "\n",
       "    .dataframe thead th {\n",
       "        text-align: right;\n",
       "    }\n",
       "</style>\n",
       "<table border=\"1\" class=\"dataframe\">\n",
       "  <thead>\n",
       "    <tr style=\"text-align: right;\">\n",
       "      <th></th>\n",
       "      <th>profile_id</th>\n",
       "      <th>predicted_list</th>\n",
       "    </tr>\n",
       "  </thead>\n",
       "  <tbody>\n",
       "    <tr>\n",
       "      <th>0</th>\n",
       "      <td>3</td>\n",
       "      <td>[20, 15, 25, 31, 30, 29, 28, 27, 26, 24, 16, 2...</td>\n",
       "    </tr>\n",
       "    <tr>\n",
       "      <th>1</th>\n",
       "      <td>5</td>\n",
       "      <td>[84, 128, 314, 317, 86, 74, 75, 15, 72, 73, 90...</td>\n",
       "    </tr>\n",
       "    <tr>\n",
       "      <th>2</th>\n",
       "      <td>7</td>\n",
       "      <td>[237, 343, 2436, 417, 1006, 225, 241, 38, 416,...</td>\n",
       "    </tr>\n",
       "    <tr>\n",
       "      <th>3</th>\n",
       "      <td>19</td>\n",
       "      <td>[403, 404, 2567, 5172, 16, 19, 15, 18, 17, 38,...</td>\n",
       "    </tr>\n",
       "    <tr>\n",
       "      <th>4</th>\n",
       "      <td>20</td>\n",
       "      <td>[442, 478, 491, 426, 471, 479, 430, 356, 476, ...</td>\n",
       "    </tr>\n",
       "    <tr>\n",
       "      <th>5</th>\n",
       "      <td>22</td>\n",
       "      <td>[593, 799, 835, 302, 291, 1002, 655, 1000, 16,...</td>\n",
       "    </tr>\n",
       "    <tr>\n",
       "      <th>6</th>\n",
       "      <td>24</td>\n",
       "      <td>[1869, 339, 2861, 537, 124, 125, 65, 241, 190,...</td>\n",
       "    </tr>\n",
       "    <tr>\n",
       "      <th>7</th>\n",
       "      <td>27</td>\n",
       "      <td>[124, 50, 801, 1886, 1884, 1883, 1882, 1881, 1...</td>\n",
       "    </tr>\n",
       "    <tr>\n",
       "      <th>8</th>\n",
       "      <td>30</td>\n",
       "      <td>[1915, 1919, 150, 225, 232, 1916, 1917, 1918, ...</td>\n",
       "    </tr>\n",
       "    <tr>\n",
       "      <th>9</th>\n",
       "      <td>31</td>\n",
       "      <td>[1949, 1944, 1946, 1950, 1951, 1953, 1930, 193...</td>\n",
       "    </tr>\n",
       "  </tbody>\n",
       "</table>\n",
       "</div>"
      ],
      "text/plain": [
       "   profile_id                                     predicted_list\n",
       "0           3  [20, 15, 25, 31, 30, 29, 28, 27, 26, 24, 16, 2...\n",
       "1           5  [84, 128, 314, 317, 86, 74, 75, 15, 72, 73, 90...\n",
       "2           7  [237, 343, 2436, 417, 1006, 225, 241, 38, 416,...\n",
       "3          19  [403, 404, 2567, 5172, 16, 19, 15, 18, 17, 38,...\n",
       "4          20  [442, 478, 491, 426, 471, 479, 430, 356, 476, ...\n",
       "5          22  [593, 799, 835, 302, 291, 1002, 655, 1000, 16,...\n",
       "6          24  [1869, 339, 2861, 537, 124, 125, 65, 241, 190,...\n",
       "7          27  [124, 50, 801, 1886, 1884, 1883, 1882, 1881, 1...\n",
       "8          30  [1915, 1919, 150, 225, 232, 1916, 1917, 1918, ...\n",
       "9          31  [1949, 1944, 1946, 1950, 1951, 1953, 1930, 193..."
      ]
     },
     "execution_count": 42,
     "metadata": {},
     "output_type": "execute_result"
    }
   ],
   "source": [
    "re_watch.head(10)"
   ]
  },
  {
   "cell_type": "code",
   "execution_count": 55,
   "id": "04de9dd4-1492-40d9-b178-db2b20b32394",
   "metadata": {},
   "outputs": [],
   "source": [
    "sub = pd.read_csv(os.path.join(DATA_DIR, 'sample_submission.csv'), usecols=['profile_id'])"
   ]
  },
  {
   "cell_type": "code",
   "execution_count": 56,
   "id": "9c5aa6c3-f8cf-43f1-b8ae-cbcdbb8d8989",
   "metadata": {},
   "outputs": [],
   "source": [
    "sub = sub.merge(df_profile[['profile_id', 'sex', 'age']], \n",
    "                how='left',\n",
    "                on=['profile_id'])"
   ]
  },
  {
   "cell_type": "code",
   "execution_count": 47,
   "id": "deb0a55f-bb21-49af-acf3-c73aeb888df0",
   "metadata": {},
   "outputs": [],
   "source": [
    "sub = sub.merge(re_watch, how='left', on=['profile_id'])\n",
    "sub['predicted_list'] = sub['predicted_list'].apply(lambda d: d if isinstance(d, list) else [])"
   ]
  },
  {
   "cell_type": "code",
   "execution_count": 57,
   "id": "bb656f76-1584-4575-9813-640169479613",
   "metadata": {},
   "outputs": [],
   "source": [
    "# sub = sub.merge(group_rec, how='left', on=['sex', 'age', 'interest_keyword_cd'])\n",
    "sub = sub.merge(group_rec, how='left', on=['sex', 'age'])"
   ]
  },
  {
   "cell_type": "code",
   "execution_count": 58,
   "id": "7c9b25c4",
   "metadata": {},
   "outputs": [
    {
     "data": {
      "text/html": [
       "<div>\n",
       "<style scoped>\n",
       "    .dataframe tbody tr th:only-of-type {\n",
       "        vertical-align: middle;\n",
       "    }\n",
       "\n",
       "    .dataframe tbody tr th {\n",
       "        vertical-align: top;\n",
       "    }\n",
       "\n",
       "    .dataframe thead th {\n",
       "        text-align: right;\n",
       "    }\n",
       "</style>\n",
       "<table border=\"1\" class=\"dataframe\">\n",
       "  <thead>\n",
       "    <tr style=\"text-align: right;\">\n",
       "      <th></th>\n",
       "      <th>profile_id</th>\n",
       "      <th>sex</th>\n",
       "      <th>age</th>\n",
       "      <th>pred_list</th>\n",
       "    </tr>\n",
       "  </thead>\n",
       "  <tbody>\n",
       "    <tr>\n",
       "      <th>0</th>\n",
       "      <td>3</td>\n",
       "      <td>F</td>\n",
       "      <td>5</td>\n",
       "      <td>[124, 125, 65, 190, 339, 188, 329, 16, 15, 126...</td>\n",
       "    </tr>\n",
       "    <tr>\n",
       "      <th>1</th>\n",
       "      <td>5</td>\n",
       "      <td>M</td>\n",
       "      <td>5</td>\n",
       "      <td>[16, 124, 15, 125, 19, 65, 339, 18, 17, 38, 24...</td>\n",
       "    </tr>\n",
       "    <tr>\n",
       "      <th>2</th>\n",
       "      <td>7</td>\n",
       "      <td>F</td>\n",
       "      <td>9</td>\n",
       "      <td>[125, 65, 124, 241, 127, 2472, 190, 347, 339, ...</td>\n",
       "    </tr>\n",
       "    <tr>\n",
       "      <th>3</th>\n",
       "      <td>12</td>\n",
       "      <td>M</td>\n",
       "      <td>6</td>\n",
       "      <td>[124, 19, 16, 65, 126, 125, 424, 18, 339, 190,...</td>\n",
       "    </tr>\n",
       "    <tr>\n",
       "      <th>4</th>\n",
       "      <td>16</td>\n",
       "      <td>F</td>\n",
       "      <td>12</td>\n",
       "      <td>[38, 39, 225, 136, 230, 40, 41, 42, 43, 44, 45...</td>\n",
       "    </tr>\n",
       "  </tbody>\n",
       "</table>\n",
       "</div>"
      ],
      "text/plain": [
       "   profile_id sex  age                                          pred_list\n",
       "0           3   F    5  [124, 125, 65, 190, 339, 188, 329, 16, 15, 126...\n",
       "1           5   M    5  [16, 124, 15, 125, 19, 65, 339, 18, 17, 38, 24...\n",
       "2           7   F    9  [125, 65, 124, 241, 127, 2472, 190, 347, 339, ...\n",
       "3          12   M    6  [124, 19, 16, 65, 126, 125, 424, 18, 339, 190,...\n",
       "4          16   F   12  [38, 39, 225, 136, 230, 40, 41, 42, 43, 44, 45..."
      ]
     },
     "execution_count": 58,
     "metadata": {},
     "output_type": "execute_result"
    }
   ],
   "source": [
    "sub.head()"
   ]
  },
  {
   "cell_type": "code",
   "execution_count": null,
   "id": "f96a9d4d",
   "metadata": {},
   "outputs": [],
   "source": [
    "sub[['profile_id', 'pred_list']].rename(columns={'pred_list':'predicted_list'}).to_csv(os.path.join(SUBMISSION_DIR, 'baseline_group.csv'), index=False, encoding='utf-8-sig')"
   ]
  },
  {
   "cell_type": "code",
   "execution_count": 49,
   "id": "93c67577-9659-453c-8475-496bc0155962",
   "metadata": {},
   "outputs": [],
   "source": [
    "# sub['pred_list_x'] = sub['pred_list_x'].apply(lambda d: d if isinstance(d, list) else [])"
   ]
  },
  {
   "cell_type": "code",
   "execution_count": 50,
   "id": "8fc39132-b0d7-42ac-8e70-c726d53ff9cd",
   "metadata": {},
   "outputs": [],
   "source": [
    "sub['a'] = sub['predicted_list'] + sub['pred_list']"
   ]
  },
  {
   "cell_type": "code",
   "execution_count": 51,
   "id": "7e6825aa-86a2-4bb6-819e-61e1b7d004e4",
   "metadata": {},
   "outputs": [],
   "source": [
    "sub['a'] = sub['a'].map(lambda x: x[:25])"
   ]
  },
  {
   "cell_type": "code",
   "execution_count": 52,
   "id": "e0f3c277-edf1-4f6d-89e5-9fef733454c1",
   "metadata": {},
   "outputs": [],
   "source": [
    "sub[['profile_id', 'a']].rename(columns={'a':'predicted_list'}).to_csv(os.path.join(SUBMISSION_DIR, 'baseline_rec5.csv'), index=False, encoding='utf-8-sig')"
   ]
  },
  {
   "cell_type": "code",
   "execution_count": null,
   "id": "40bf3d97-0083-4094-b1fa-0e2628747bb1",
   "metadata": {},
   "outputs": [],
   "source": []
  }
 ],
 "metadata": {
  "kernelspec": {
   "display_name": "recsys",
   "language": "python",
   "name": "recsys"
  },
  "language_info": {
   "codemirror_mode": {
    "name": "ipython",
    "version": 3
   },
   "file_extension": ".py",
   "mimetype": "text/x-python",
   "name": "python",
   "nbconvert_exporter": "python",
   "pygments_lexer": "ipython3",
   "version": "3.8.11"
  },
  "vscode": {
   "interpreter": {
    "hash": "369f2c481f4da34e4445cda3fffd2e751bd1c4d706f27375911949ba6bb62e1c"
   }
  }
 },
 "nbformat": 4,
 "nbformat_minor": 5
}
